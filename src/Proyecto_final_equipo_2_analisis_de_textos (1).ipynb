{
 "cells": [
  {
   "cell_type": "code",
   "execution_count": 77,
   "id": "1e5b7951",
   "metadata": {},
   "outputs": [],
   "source": [
    "# Librerias a utilizar\n",
    "import numpy as np\n",
    "import pandas as pd\n",
    "import matplotlib.pyplot as plt\n",
    "import seaborn as sns\n",
    "#from textblob import TextBlob\n",
    "#from wordcloud import WordCloud\n",
    "import re\n",
    "from matplotlib import style\n",
    "plt.style.use('ggplot')\n",
    "from sklearn.feature_extraction.text import CountVectorizer\n",
    "from sklearn.model_selection import train_test_split\n",
    "from sklearn.linear_model import LogisticRegression\n",
    "from sklearn.metrics import accuracy_score, classification_report, confusion_matrix, ConfusionMatrixDisplay\n",
    "from nltk.tokenize import word_tokenize\n",
    "from nltk.stem import PorterStemmer\n",
    "from nltk.corpus import stopwords\n",
    "stop_words = set(stopwords.words('spanish'))\n",
    "import nltk \n",
    "import spacy\n",
    "from spacy import displacy\n",
    "import csv"
   ]
  },
  {
   "cell_type": "code",
   "execution_count": 35,
   "id": "3d447515",
   "metadata": {},
   "outputs": [
    {
     "data": {
      "text/plain": [
       "Index(['text', 'favorited', 'favoriteCount', 'replyToSN', 'created',\n",
       "       'truncated', 'replyToSID', 'id', 'replyToUID', 'statusSource',\n",
       "       'screenName', 'retweetCount', 'isRetweet', 'retweeted', 'longitude',\n",
       "       'latitude'],\n",
       "      dtype='object')"
      ]
     },
     "execution_count": 35,
     "metadata": {},
     "output_type": "execute_result"
    }
   ],
   "source": [
    "# Importamos los datos\n",
    "tweets = pd.read_csv(\"Plan_integral_movilidad.csv\")\n",
    "tweets.columns"
   ]
  },
  {
   "cell_type": "markdown",
   "id": "cceef823",
   "metadata": {},
   "source": [
    "Observamos variables como el texto del tweet, su fecha de creación, si fue rtweet, el conteo de los rweets y el usuario del tweet"
   ]
  },
  {
   "cell_type": "markdown",
   "id": "dcdefc58",
   "metadata": {},
   "source": [
    "A través del método de web scraping en la API de Twitter acerca de palabras relacionadas al proyecto de movilidad en el sur de la ciudad se encontraron 1735 tweets a los cuales se procedera aplicar procesamiento de lenguaje natural y análisis de sentimiento para conocer la percepcíón de la ciudadanía sobre el proyecto."
   ]
  },
  {
   "cell_type": "code",
   "execution_count": 37,
   "id": "57d5379f",
   "metadata": {},
   "outputs": [
    {
     "data": {
      "text/html": [
       "<div>\n",
       "<style scoped>\n",
       "    .dataframe tbody tr th:only-of-type {\n",
       "        vertical-align: middle;\n",
       "    }\n",
       "\n",
       "    .dataframe tbody tr th {\n",
       "        vertical-align: top;\n",
       "    }\n",
       "\n",
       "    .dataframe thead th {\n",
       "        text-align: right;\n",
       "    }\n",
       "</style>\n",
       "<table border=\"1\" class=\"dataframe\">\n",
       "  <thead>\n",
       "    <tr style=\"text-align: right;\">\n",
       "      <th></th>\n",
       "      <th>text</th>\n",
       "    </tr>\n",
       "  </thead>\n",
       "  <tbody>\n",
       "    <tr>\n",
       "      <th>0</th>\n",
       "      <td>¿Ya vieron todo lo que incluye el Plan Integra...</td>\n",
       "    </tr>\n",
       "    <tr>\n",
       "      <th>1</th>\n",
       "      <td>RT @JorgeAldanaB: En nuestro compromiso por me...</td>\n",
       "    </tr>\n",
       "    <tr>\n",
       "      <th>2</th>\n",
       "      <td>RT @quierotv_gdl: \"Solución López Mateos\" \\n??...</td>\n",
       "    </tr>\n",
       "    <tr>\n",
       "      <th>3</th>\n",
       "      <td>\"Solución López Mateos\" \\n?? Conoce la estrate...</td>\n",
       "    </tr>\n",
       "    <tr>\n",
       "      <th>4</th>\n",
       "      <td>RT @PpopularElche: Proponemos un Plan de Movil...</td>\n",
       "    </tr>\n",
       "  </tbody>\n",
       "</table>\n",
       "</div>"
      ],
      "text/plain": [
       "                                                text\n",
       "0  ¿Ya vieron todo lo que incluye el Plan Integra...\n",
       "1  RT @JorgeAldanaB: En nuestro compromiso por me...\n",
       "2  RT @quierotv_gdl: \"Solución López Mateos\" \\n??...\n",
       "3  \"Solución López Mateos\" \\n?? Conoce la estrate...\n",
       "4  RT @PpopularElche: Proponemos un Plan de Movil..."
      ]
     },
     "execution_count": 37,
     "metadata": {},
     "output_type": "execute_result"
    }
   ],
   "source": [
    "#Dataframe con los tweets como texto\n",
    "text_tweets = pd.DataFrame(tweets['text'])\n",
    "text_tweets.head()"
   ]
  },
  {
   "cell_type": "code",
   "execution_count": 39,
   "id": "824e098b",
   "metadata": {},
   "outputs": [],
   "source": [
    "#Realizamos limpieza de información sobre el texto de los tweets\n",
    "def limpiar_texto(text):\n",
    "    text = text.lower()\n",
    "    text = re.sub(r'@[A-Za-z09]+','',text)\n",
    "    text = re.sub(r'\\@w+|\\#','',text)\n",
    "    text = re.sub(r'rt[\\s]+','',text)\n",
    "    text = re.sub(r'https:\\/\\/?','',text, flags=re.MULTILINE)\n",
    "    text = re.sub(r'[^\\w\\s]','',text)\n",
    "    text_tokens = word_tokenize(text)\n",
    "    filtered_text = [w for w in text_tokens if not w in stop_words]\n",
    "    return \" \".join(filtered_text)"
   ]
  },
  {
   "cell_type": "code",
   "execution_count": 40,
   "id": "94579e6a",
   "metadata": {},
   "outputs": [
    {
     "data": {
      "text/html": [
       "<div>\n",
       "<style scoped>\n",
       "    .dataframe tbody tr th:only-of-type {\n",
       "        vertical-align: middle;\n",
       "    }\n",
       "\n",
       "    .dataframe tbody tr th {\n",
       "        vertical-align: top;\n",
       "    }\n",
       "\n",
       "    .dataframe thead th {\n",
       "        text-align: right;\n",
       "    }\n",
       "</style>\n",
       "<table border=\"1\" class=\"dataframe\">\n",
       "  <thead>\n",
       "    <tr style=\"text-align: right;\">\n",
       "      <th></th>\n",
       "      <th>text</th>\n",
       "    </tr>\n",
       "  </thead>\n",
       "  <tbody>\n",
       "    <tr>\n",
       "      <th>0</th>\n",
       "      <td>vieron incluye plan integral movilidad present...</td>\n",
       "    </tr>\n",
       "    <tr>\n",
       "      <th>1</th>\n",
       "      <td>compromiso mejorar movilidad capital realizado...</td>\n",
       "    </tr>\n",
       "    <tr>\n",
       "      <th>2</th>\n",
       "      <td>_gdl solución lópez mateos conoce estrategia m...</td>\n",
       "    </tr>\n",
       "    <tr>\n",
       "      <th>3</th>\n",
       "      <td>solución lópez mateos conoce estrategia movili...</td>\n",
       "    </tr>\n",
       "    <tr>\n",
       "      <th>4</th>\n",
       "      <td>proponemos plan movilidad integral municipal c...</td>\n",
       "    </tr>\n",
       "  </tbody>\n",
       "</table>\n",
       "</div>"
      ],
      "text/plain": [
       "                                                text\n",
       "0  vieron incluye plan integral movilidad present...\n",
       "1  compromiso mejorar movilidad capital realizado...\n",
       "2  _gdl solución lópez mateos conoce estrategia m...\n",
       "3  solución lópez mateos conoce estrategia movili...\n",
       "4  proponemos plan movilidad integral municipal c..."
      ]
     },
     "execution_count": 40,
     "metadata": {},
     "output_type": "execute_result"
    }
   ],
   "source": [
    "text_tweets['text'] = text_tweets['text'].apply(limpiar_texto)\n",
    "text_tweets.head()"
   ]
  },
  {
   "cell_type": "code",
   "execution_count": 41,
   "id": "da5ca8d2",
   "metadata": {},
   "outputs": [
    {
     "name": "stdout",
     "output_type": "stream",
     "text": [
      "<class 'pandas.core.frame.DataFrame'>\n",
      "Int64Index: 716 entries, 0 to 1734\n",
      "Data columns (total 1 columns):\n",
      " #   Column  Non-Null Count  Dtype \n",
      "---  ------  --------------  ----- \n",
      " 0   text    716 non-null    object\n",
      "dtypes: object(1)\n",
      "memory usage: 11.2+ KB\n"
     ]
    }
   ],
   "source": [
    "text_tweets = text_tweets.drop_duplicates('text')\n",
    "text_tweets.info()"
   ]
  },
  {
   "cell_type": "code",
   "execution_count": 42,
   "id": "f37c1bcc",
   "metadata": {},
   "outputs": [],
   "source": [
    "stemmer= PorterStemmer()\n",
    "def stemming(data):\n",
    "    text = [stemmer.stem(word) for word in data]\n",
    "    return data"
   ]
  },
  {
   "cell_type": "code",
   "execution_count": 43,
   "id": "0d83d73d",
   "metadata": {},
   "outputs": [
    {
     "data": {
      "text/html": [
       "<div>\n",
       "<style scoped>\n",
       "    .dataframe tbody tr th:only-of-type {\n",
       "        vertical-align: middle;\n",
       "    }\n",
       "\n",
       "    .dataframe tbody tr th {\n",
       "        vertical-align: top;\n",
       "    }\n",
       "\n",
       "    .dataframe thead th {\n",
       "        text-align: right;\n",
       "    }\n",
       "</style>\n",
       "<table border=\"1\" class=\"dataframe\">\n",
       "  <thead>\n",
       "    <tr style=\"text-align: right;\">\n",
       "      <th></th>\n",
       "      <th>text</th>\n",
       "    </tr>\n",
       "  </thead>\n",
       "  <tbody>\n",
       "    <tr>\n",
       "      <th>0</th>\n",
       "      <td>vieron incluye plan integral movilidad present...</td>\n",
       "    </tr>\n",
       "    <tr>\n",
       "      <th>1</th>\n",
       "      <td>compromiso mejorar movilidad capital realizado...</td>\n",
       "    </tr>\n",
       "    <tr>\n",
       "      <th>2</th>\n",
       "      <td>_gdl solución lópez mateos conoce estrategia m...</td>\n",
       "    </tr>\n",
       "    <tr>\n",
       "      <th>3</th>\n",
       "      <td>solución lópez mateos conoce estrategia movili...</td>\n",
       "    </tr>\n",
       "    <tr>\n",
       "      <th>4</th>\n",
       "      <td>proponemos plan movilidad integral municipal c...</td>\n",
       "    </tr>\n",
       "  </tbody>\n",
       "</table>\n",
       "</div>"
      ],
      "text/plain": [
       "                                                text\n",
       "0  vieron incluye plan integral movilidad present...\n",
       "1  compromiso mejorar movilidad capital realizado...\n",
       "2  _gdl solución lópez mateos conoce estrategia m...\n",
       "3  solución lópez mateos conoce estrategia movili...\n",
       "4  proponemos plan movilidad integral municipal c..."
      ]
     },
     "execution_count": 43,
     "metadata": {},
     "output_type": "execute_result"
    }
   ],
   "source": [
    "text_tweets['text'] = text_tweets['text'].apply(lambda x: stemming(x))\n",
    "text_tweets.head()"
   ]
  },
  {
   "cell_type": "markdown",
   "id": "9cf8aa1f",
   "metadata": {},
   "source": [
    "NTLK"
   ]
  },
  {
   "cell_type": "code",
   "execution_count": 46,
   "id": "caecef05",
   "metadata": {},
   "outputs": [
    {
     "data": {
      "text/plain": [
       "0       [vieron, incluye, plan, integral, movilidad, p...\n",
       "1       [compromiso, mejorar, movilidad, capital, real...\n",
       "2       [_gdl, solución, lópez, mateos, conoce, estrat...\n",
       "3       [solución, lópez, mateos, conoce, estrategia, ...\n",
       "4       [proponemos, plan, movilidad, integral, munici...\n",
       "                              ...                        \n",
       "1729    [gobierno, macuspana, secretaría, ordenamiento...\n",
       "1730    [cali, hará, parte, creación, primera, área, m...\n",
       "1732    [cali, hará, parte, creación, primera, área, m...\n",
       "1733    [proyectos, renovación, infraestructura, públi...\n",
       "1734    [proyectos, renovación, infraestructura, públi...\n",
       "Name: text, Length: 716, dtype: object"
      ]
     },
     "execution_count": 46,
     "metadata": {},
     "output_type": "execute_result"
    }
   ],
   "source": [
    "#tokenizar el texto en palabras y en oraciones:\n",
    "tokens = texto.apply(nltk.word_tokenize)\n",
    "tokens"
   ]
  },
  {
   "cell_type": "code",
   "execution_count": 47,
   "id": "7eaa28e6",
   "metadata": {},
   "outputs": [],
   "source": [
    "#Eliminamos las stopwords (palabras sin significado como \"y\", \"o\", etc.):\n",
    "from nltk.corpus import stopwords\n",
    "\n",
    "stopwords_sp = stopwords.words('spanish')\n",
    "\n",
    "texto['tokens_sin_stopwords'] = tokens.apply(lambda x: [palabra for palabra in x if palabra.lower() not in stopwords_sp])"
   ]
  },
  {
   "cell_type": "code",
   "execution_count": 48,
   "id": "2061d1fc",
   "metadata": {},
   "outputs": [
    {
     "data": {
      "text/plain": [
       "0       [vieron, incluye, plan, integral, movilidad, p...\n",
       "1       [compromiso, mejorar, movilidad, capital, real...\n",
       "2       [_gdl, solución, lópez, mateos, conoce, estrat...\n",
       "3       [solución, lópez, mateos, conoce, estrategia, ...\n",
       "4       [proponemos, plan, movilidad, integral, munici...\n",
       "                              ...                        \n",
       "1729    [gobierno, macuspana, secretaría, ordenamiento...\n",
       "1730    [cali, hará, parte, creación, primera, área, m...\n",
       "1732    [cali, hará, parte, creación, primera, área, m...\n",
       "1733    [proyectos, renovación, infraestructura, públi...\n",
       "1734    [proyectos, renovación, infraestructura, públi...\n",
       "Name: text, Length: 716, dtype: object"
      ]
     },
     "execution_count": 48,
     "metadata": {},
     "output_type": "execute_result"
    }
   ],
   "source": [
    "texto['tokens_sin_stopwords'] "
   ]
  },
  {
   "cell_type": "markdown",
   "id": "f1dd3200",
   "metadata": {},
   "source": [
    "SpaCy"
   ]
  },
  {
   "cell_type": "code",
   "execution_count": 75,
   "id": "21d7fbd1",
   "metadata": {},
   "outputs": [],
   "source": [
    "import es_core_news_sm\n",
    "nlp = es_core_news_sm.load()"
   ]
  },
  {
   "cell_type": "code",
   "execution_count": 82,
   "id": "8bac7f77",
   "metadata": {},
   "outputs": [],
   "source": [
    "def spacy_analyzer(text):\n",
    "    doc = nlp(text)\n",
    "    return doc"
   ]
  },
  {
   "cell_type": "code",
   "execution_count": 90,
   "id": "2630000e",
   "metadata": {},
   "outputs": [],
   "source": [
    "doc = texto['textos_analizados'] = text_tweets[\"text\"].apply(spacy_analyzer)"
   ]
  },
  {
   "cell_type": "code",
   "execution_count": 94,
   "id": "f14dbf68",
   "metadata": {},
   "outputs": [
    {
     "data": {
      "text/plain": [
       "0                                             []\n",
       "1                                             []\n",
       "2                                   [(gdl, ORG)]\n",
       "3                 [(solución lópez mateos, PER)]\n",
       "4                                             []\n",
       "                          ...                   \n",
       "1729                 [(gobierno macuspana, PER)]\n",
       "1730     [(cali hará, PER), (colombiaamso, LOC)]\n",
       "1732     [(cali hará, PER), (colombiaamso, LOC)]\n",
       "1733                          [(proyectos, PER)]\n",
       "1734    [(proyectos, PER), (tcoohus5zmkta, LOC)]\n",
       "Name: text, Length: 716, dtype: object"
      ]
     },
     "execution_count": 94,
     "metadata": {},
     "output_type": "execute_result"
    }
   ],
   "source": [
    "#Extracción de entidades nombradas (NER)\n",
    "def extract_entities(text):\n",
    "    doc = nlp(text)\n",
    "    entities = []\n",
    "    for entity in doc.ents:\n",
    "        entities.append((entity.text, entity.label_))\n",
    "    return entities\n",
    "texto['entidades_nombradas'] = text_tweets['text'].apply(extract_entities)\n",
    "texto['entidades_nombradas'] "
   ]
  },
  {
   "cell_type": "code",
   "execution_count": 101,
   "id": "4bd1ec4f",
   "metadata": {},
   "outputs": [
    {
     "data": {
      "text/plain": [
       "0       [(vieron, VERB, ccomp, presentó), (incluye, VE...\n",
       "1       [(compromiso, NOUN, ROOT, compromiso), (mejora...\n",
       "2       [(_, PROPN, nsubj, conoce), (gdl, PROPN, flat,...\n",
       "3       [(solución, PROPN, nsubj, conoce), (lópez, PRO...\n",
       "4       [(proponemos, VERB, ROOT, proponemos), (plan, ...\n",
       "                              ...                        \n",
       "1729    [(gobierno, NOUN, nsubj, secretaría), (macuspa...\n",
       "1730    [(cali, PROPN, nsubj, hará), (hará, VERB, ROOT...\n",
       "1732    [(cali, PROPN, nsubj, hará), (hará, VERB, ROOT...\n",
       "1733    [(proyectos, NOUN, nsubj, realiza), (renovació...\n",
       "1734    [(proyectos, NOUN, nsubj, realiza), (renovació...\n",
       "Name: analisis_sintactico, Length: 716, dtype: object"
      ]
     },
     "execution_count": 101,
     "metadata": {},
     "output_type": "execute_result"
    }
   ],
   "source": [
    "##Análisis del tipo de la sintaxis de las palabras de los tweets\n",
    "def analyze_syntax(text):\n",
    "    doc = nlp(text)\n",
    "    return [(token.text, token.pos_, token.dep_, token.head.text) for token in doc]\n",
    "\n",
    "text_tweets['analisis_sintactico'] = text_tweets['text'].apply(analyze_syntax)\n",
    "text_tweets['analisis_sintactico'] "
   ]
  },
  {
   "cell_type": "code",
   "execution_count": 102,
   "id": "586dae49",
   "metadata": {},
   "outputs": [
    {
     "data": {
      "text/plain": [
       "0       0.0\n",
       "1       0.0\n",
       "2       0.0\n",
       "3       0.0\n",
       "4       0.0\n",
       "       ... \n",
       "1729    0.0\n",
       "1730    0.0\n",
       "1732    0.0\n",
       "1733    0.0\n",
       "1734    0.0\n",
       "Name: sentimiento, Length: 716, dtype: float64"
      ]
     },
     "execution_count": 102,
     "metadata": {},
     "output_type": "execute_result"
    }
   ],
   "source": [
    "#Análisis de sentimiento\n",
    "#0 netral, -1 negativa, +1 positivo\n",
    "def analyze_sentiment(text):\n",
    "    doc = nlp(text)\n",
    "    return doc.sentiment\n",
    "\n",
    "text_tweets['sentimiento'] = text_tweets['text'].apply(analyze_sentiment)\n",
    "text_tweets['sentimiento']"
   ]
  },
  {
   "cell_type": "code",
   "execution_count": 138,
   "id": "55ef4a93",
   "metadata": {},
   "outputs": [
    {
     "data": {
      "text/plain": [
       "0           [0.0, 0.0, 0.0, 0.0, 0.0, 0.0, 0.0, 0.0, 0.0]\n",
       "1           [0.0, 0.0, 0.0, 0.0, 0.0, 0.0, 0.0, 0.0, 0.0]\n",
       "2       [0.0, 0.0, 0.0, 0.0, 0.0, 0.0, 0.0, 0.0, 0.0, ...\n",
       "3       [0.0, 0.0, 0.0, 0.0, 0.0, 0.0, 0.0, 0.0, 0.0, ...\n",
       "4       [0.0, 0.0, 0.0, 0.0, 0.0, 0.0, 0.0, 0.0, 0.0, ...\n",
       "                              ...                        \n",
       "1729    [0.0, 0.0, 0.0, 0.0, 0.0, 0.0, 0.0, 0.0, 0.0, ...\n",
       "1730    [0.0, 0.0, 0.0, 0.0, 0.0, 0.0, 0.0, 0.0, 0.0, ...\n",
       "1732    [0.0, 0.0, 0.0, 0.0, 0.0, 0.0, 0.0, 0.0, 0.0, ...\n",
       "1733    [0.0, 0.0, 0.0, 0.0, 0.0, 0.0, 0.0, 0.0, 0.0, ...\n",
       "1734    [0.0, 0.0, 0.0, 0.0, 0.0, 0.0, 0.0, 0.0, 0.0, ...\n",
       "Name: polaridad, Length: 716, dtype: object"
      ]
     },
     "execution_count": 138,
     "metadata": {},
     "output_type": "execute_result"
    }
   ],
   "source": [
    "#Revisión en busca de polaridad en los comentarios\n",
    "text_tweets['polaridad'] = text_tweets['text'].apply(lambda x: [token.sentiment for token in nlp(x)])\n",
    "text_tweets['polaridad']"
   ]
  },
  {
   "cell_type": "code",
   "execution_count": 118,
   "id": "ad685345",
   "metadata": {},
   "outputs": [
    {
     "data": {
      "text/html": [
       "<div>\n",
       "<style scoped>\n",
       "    .dataframe tbody tr th:only-of-type {\n",
       "        vertical-align: middle;\n",
       "    }\n",
       "\n",
       "    .dataframe tbody tr th {\n",
       "        vertical-align: top;\n",
       "    }\n",
       "\n",
       "    .dataframe thead th {\n",
       "        text-align: right;\n",
       "    }\n",
       "</style>\n",
       "<table border=\"1\" class=\"dataframe\">\n",
       "  <thead>\n",
       "    <tr style=\"text-align: right;\">\n",
       "      <th></th>\n",
       "      <th>text</th>\n",
       "      <th>analisis_sintactico</th>\n",
       "      <th>sentimiento</th>\n",
       "      <th>entidades</th>\n",
       "      <th>dependencias</th>\n",
       "    </tr>\n",
       "  </thead>\n",
       "  <tbody>\n",
       "    <tr>\n",
       "      <th>0</th>\n",
       "      <td>vieron incluye plan integral movilidad present...</td>\n",
       "      <td>[(vieron, VERB, ccomp, presentó), (incluye, VE...</td>\n",
       "      <td>0.0</td>\n",
       "      <td>[]</td>\n",
       "      <td>[(vieron, ccomp, presentó), (incluye, ccomp, v...</td>\n",
       "    </tr>\n",
       "    <tr>\n",
       "      <th>1</th>\n",
       "      <td>compromiso mejorar movilidad capital realizado...</td>\n",
       "      <td>[(compromiso, NOUN, ROOT, compromiso), (mejora...</td>\n",
       "      <td>0.0</td>\n",
       "      <td>[]</td>\n",
       "      <td>[(compromiso, ROOT, compromiso), (mejorar, csu...</td>\n",
       "    </tr>\n",
       "    <tr>\n",
       "      <th>2</th>\n",
       "      <td>_gdl solución lópez mateos conoce estrategia m...</td>\n",
       "      <td>[(_, PROPN, nsubj, conoce), (gdl, PROPN, flat,...</td>\n",
       "      <td>0.0</td>\n",
       "      <td>[(gdl, ORG)]</td>\n",
       "      <td>[(_, nsubj, conoce), (gdl, flat, _), (solución...</td>\n",
       "    </tr>\n",
       "    <tr>\n",
       "      <th>3</th>\n",
       "      <td>solución lópez mateos conoce estrategia movili...</td>\n",
       "      <td>[(solución, PROPN, nsubj, conoce), (lópez, PRO...</td>\n",
       "      <td>0.0</td>\n",
       "      <td>[(solución lópez mateos, PER)]</td>\n",
       "      <td>[(solución, nsubj, conoce), (lópez, flat, solu...</td>\n",
       "    </tr>\n",
       "    <tr>\n",
       "      <th>4</th>\n",
       "      <td>proponemos plan movilidad integral municipal c...</td>\n",
       "      <td>[(proponemos, VERB, ROOT, proponemos), (plan, ...</td>\n",
       "      <td>0.0</td>\n",
       "      <td>[]</td>\n",
       "      <td>[(proponemos, ROOT, proponemos), (plan, obj, p...</td>\n",
       "    </tr>\n",
       "    <tr>\n",
       "      <th>...</th>\n",
       "      <td>...</td>\n",
       "      <td>...</td>\n",
       "      <td>...</td>\n",
       "      <td>...</td>\n",
       "      <td>...</td>\n",
       "    </tr>\n",
       "    <tr>\n",
       "      <th>1729</th>\n",
       "      <td>gobierno macuspana secretaría ordenamiento ter...</td>\n",
       "      <td>[(gobierno, NOUN, nsubj, secretaría), (macuspa...</td>\n",
       "      <td>0.0</td>\n",
       "      <td>[(gobierno macuspana, PER)]</td>\n",
       "      <td>[(gobierno, nsubj, secretaría), (macuspana, am...</td>\n",
       "    </tr>\n",
       "    <tr>\n",
       "      <th>1730</th>\n",
       "      <td>cali hará parte creación primera área metropol...</td>\n",
       "      <td>[(cali, PROPN, nsubj, hará), (hará, VERB, ROOT...</td>\n",
       "      <td>0.0</td>\n",
       "      <td>[(cali hará, PER), (colombiaamso, LOC)]</td>\n",
       "      <td>[(cali, nsubj, hará), (hará, ROOT, hará), (par...</td>\n",
       "    </tr>\n",
       "    <tr>\n",
       "      <th>1732</th>\n",
       "      <td>cali hará parte creación primera área metropol...</td>\n",
       "      <td>[(cali, PROPN, nsubj, hará), (hará, VERB, ROOT...</td>\n",
       "      <td>0.0</td>\n",
       "      <td>[(cali hará, PER), (colombiaamso, LOC)]</td>\n",
       "      <td>[(cali, nsubj, hará), (hará, ROOT, hará), (par...</td>\n",
       "    </tr>\n",
       "    <tr>\n",
       "      <th>1733</th>\n",
       "      <td>proyectos renovación infraestructura pública _...</td>\n",
       "      <td>[(proyectos, NOUN, nsubj, realiza), (renovació...</td>\n",
       "      <td>0.0</td>\n",
       "      <td>[(proyectos, PER)]</td>\n",
       "      <td>[(proyectos, nsubj, realiza), (renovación, amo...</td>\n",
       "    </tr>\n",
       "    <tr>\n",
       "      <th>1734</th>\n",
       "      <td>proyectos renovación infraestructura pública _...</td>\n",
       "      <td>[(proyectos, NOUN, nsubj, realiza), (renovació...</td>\n",
       "      <td>0.0</td>\n",
       "      <td>[(proyectos, PER), (tcoohus5zmkta, LOC)]</td>\n",
       "      <td>[(proyectos, nsubj, realiza), (renovación, amo...</td>\n",
       "    </tr>\n",
       "  </tbody>\n",
       "</table>\n",
       "<p>716 rows × 5 columns</p>\n",
       "</div>"
      ],
      "text/plain": [
       "                                                   text  \\\n",
       "0     vieron incluye plan integral movilidad present...   \n",
       "1     compromiso mejorar movilidad capital realizado...   \n",
       "2     _gdl solución lópez mateos conoce estrategia m...   \n",
       "3     solución lópez mateos conoce estrategia movili...   \n",
       "4     proponemos plan movilidad integral municipal c...   \n",
       "...                                                 ...   \n",
       "1729  gobierno macuspana secretaría ordenamiento ter...   \n",
       "1730  cali hará parte creación primera área metropol...   \n",
       "1732  cali hará parte creación primera área metropol...   \n",
       "1733  proyectos renovación infraestructura pública _...   \n",
       "1734  proyectos renovación infraestructura pública _...   \n",
       "\n",
       "                                    analisis_sintactico  sentimiento  \\\n",
       "0     [(vieron, VERB, ccomp, presentó), (incluye, VE...          0.0   \n",
       "1     [(compromiso, NOUN, ROOT, compromiso), (mejora...          0.0   \n",
       "2     [(_, PROPN, nsubj, conoce), (gdl, PROPN, flat,...          0.0   \n",
       "3     [(solución, PROPN, nsubj, conoce), (lópez, PRO...          0.0   \n",
       "4     [(proponemos, VERB, ROOT, proponemos), (plan, ...          0.0   \n",
       "...                                                 ...          ...   \n",
       "1729  [(gobierno, NOUN, nsubj, secretaría), (macuspa...          0.0   \n",
       "1730  [(cali, PROPN, nsubj, hará), (hará, VERB, ROOT...          0.0   \n",
       "1732  [(cali, PROPN, nsubj, hará), (hará, VERB, ROOT...          0.0   \n",
       "1733  [(proyectos, NOUN, nsubj, realiza), (renovació...          0.0   \n",
       "1734  [(proyectos, NOUN, nsubj, realiza), (renovació...          0.0   \n",
       "\n",
       "                                     entidades  \\\n",
       "0                                           []   \n",
       "1                                           []   \n",
       "2                                 [(gdl, ORG)]   \n",
       "3               [(solución lópez mateos, PER)]   \n",
       "4                                           []   \n",
       "...                                        ...   \n",
       "1729               [(gobierno macuspana, PER)]   \n",
       "1730   [(cali hará, PER), (colombiaamso, LOC)]   \n",
       "1732   [(cali hará, PER), (colombiaamso, LOC)]   \n",
       "1733                        [(proyectos, PER)]   \n",
       "1734  [(proyectos, PER), (tcoohus5zmkta, LOC)]   \n",
       "\n",
       "                                           dependencias  \n",
       "0     [(vieron, ccomp, presentó), (incluye, ccomp, v...  \n",
       "1     [(compromiso, ROOT, compromiso), (mejorar, csu...  \n",
       "2     [(_, nsubj, conoce), (gdl, flat, _), (solución...  \n",
       "3     [(solución, nsubj, conoce), (lópez, flat, solu...  \n",
       "4     [(proponemos, ROOT, proponemos), (plan, obj, p...  \n",
       "...                                                 ...  \n",
       "1729  [(gobierno, nsubj, secretaría), (macuspana, am...  \n",
       "1730  [(cali, nsubj, hará), (hará, ROOT, hará), (par...  \n",
       "1732  [(cali, nsubj, hará), (hará, ROOT, hará), (par...  \n",
       "1733  [(proyectos, nsubj, realiza), (renovación, amo...  \n",
       "1734  [(proyectos, nsubj, realiza), (renovación, amo...  \n",
       "\n",
       "[716 rows x 5 columns]"
      ]
     },
     "execution_count": 118,
     "metadata": {},
     "output_type": "execute_result"
    }
   ],
   "source": [
    "#Análisis detallado del texto \n",
    "def analyze_dependencies(text):\n",
    "    doc = nlp(text)\n",
    "    return [(token.text, token.dep_, token.head.text) for token in doc]\n",
    "\n",
    "text_tweets['dependencias'] = text_tweets['text'].apply(analyze_dependencies)\n",
    "text_tweets"
   ]
  },
  {
   "cell_type": "code",
   "execution_count": 120,
   "id": "1e21bc94",
   "metadata": {},
   "outputs": [
    {
     "data": {
      "text/plain": [
       "0       [ver, incluir, plan, integral, movilidad, pres...\n",
       "1       [compromiso, mejorar, movilidad, capital, real...\n",
       "2       [_, gdl, solución, lópez, mateos, conocer, est...\n",
       "3       [solución, lópez, mateos, conocer, estrategia,...\n",
       "4       [proponer, plan, movilidad, integral, municipa...\n",
       "                              ...                        \n",
       "1729    [gobierno, macuspán, secretacer, ordenamiento,...\n",
       "1730    [cali, hacer, parte, creación, primero, área, ...\n",
       "1732    [cali, hacer, parte, creación, primero, área, ...\n",
       "1733    [proyecto, renovación, infraestructura, públic...\n",
       "1734    [proyecto, renovación, infraestructura, públic...\n",
       "Name: lemmas, Length: 716, dtype: object"
      ]
     },
     "execution_count": 120,
     "metadata": {},
     "output_type": "execute_result"
    }
   ],
   "source": [
    "#Lematización de las palabras para encontrar la palabra \n",
    "def lemmatize(text):\n",
    "    doc = nlp(text)\n",
    "    return [token.lemma_ for token in doc]\n",
    "\n",
    "text_tweets['lemmas'] = text_tweets['text'].apply(lemmatize)\n",
    "text_tweets['lemmas']"
   ]
  },
  {
   "cell_type": "code",
   "execution_count": 130,
   "id": "bcd24399",
   "metadata": {},
   "outputs": [
    {
     "data": {
      "text/plain": [
       "0       []\n",
       "1       []\n",
       "2       []\n",
       "3       []\n",
       "4       []\n",
       "        ..\n",
       "1729    []\n",
       "1730    []\n",
       "1732    []\n",
       "1733    []\n",
       "1734    []\n",
       "Name: idiomas, Length: 716, dtype: object"
      ]
     },
     "execution_count": 130,
     "metadata": {},
     "output_type": "execute_result"
    }
   ],
   "source": [
    "#Identificación del idioma\n",
    "def recognize_idioms(text):\n",
    "    doc = nlp(text)\n",
    "    idioms = []\n",
    "    for token in doc:\n",
    "        if token.dep_ == 'compound' and token.head.pos_ == 'NOUN' and token.head.dep_ == 'dobj':\n",
    "            idioms.append(token.text + ' ' + token.head.text)\n",
    "    return idioms\n",
    "\n",
    "text_tweets['idiomas'] = text_tweets['text'].apply(recognize_idioms)\n",
    "text_tweets['idiomas']"
   ]
  },
  {
   "cell_type": "code",
   "execution_count": 136,
   "id": "2d6e3753",
   "metadata": {},
   "outputs": [
    {
     "data": {
      "text/plain": [
       "0       [vieron incluye plan integral movilidad presen...\n",
       "1       [compromiso mejorar movilidad capital realizad...\n",
       "2       [_gdl solución lópez mateos conoce estrategia ...\n",
       "3       [solución lópez mateos conoce estrategia movil...\n",
       "4       [proponemos plan movilidad integral municipal ...\n",
       "                              ...                        \n",
       "1729    [gobierno macuspana secretaría ordenamiento te...\n",
       "1730    [cali hará parte creación primera área metropo...\n",
       "1732    [cali hará parte creación primera área metropo...\n",
       "1733    [proyectos renovación infraestructura pública ...\n",
       "1734    [proyectos renovación infraestructura pública ...\n",
       "Name: frases, Length: 716, dtype: object"
      ]
     },
     "execution_count": 136,
     "metadata": {},
     "output_type": "execute_result"
    }
   ],
   "source": [
    "#División de los tweets en frases\n",
    "text_tweets['frases'] = text_tweets['text'].apply(lambda x: [sent.text for sent in nlp(x).sents])\n",
    "text_tweets['frases'] "
   ]
  }
 ],
 "metadata": {
  "kernelspec": {
   "display_name": "Python 3",
   "language": "python",
   "name": "python3"
  },
  "language_info": {
   "codemirror_mode": {
    "name": "ipython",
    "version": 3
   },
   "file_extension": ".py",
   "mimetype": "text/x-python",
   "name": "python",
   "nbconvert_exporter": "python",
   "pygments_lexer": "ipython3",
   "version": "3.8.8"
  }
 },
 "nbformat": 4,
 "nbformat_minor": 5
}
